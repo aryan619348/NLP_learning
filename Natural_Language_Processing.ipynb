{
  "nbformat": 4,
  "nbformat_minor": 0,
  "metadata": {
    "colab": {
      "name": "Natural Language Processing.ipynb",
      "provenance": [],
      "collapsed_sections": [],
      "authorship_tag": "ABX9TyOfpyl0YdLVqeDPRkskgIH3",
      "include_colab_link": true
    },
    "kernelspec": {
      "name": "python3",
      "display_name": "Python 3"
    },
    "language_info": {
      "name": "python"
    }
  },
  "cells": [
    {
      "cell_type": "markdown",
      "metadata": {
        "id": "view-in-github",
        "colab_type": "text"
      },
      "source": [
        "<a href=\"https://colab.research.google.com/github/aryan619348/NLP_learning/blob/main/Natural_Language_Processing.ipynb\" target=\"_parent\"><img src=\"https://colab.research.google.com/assets/colab-badge.svg\" alt=\"Open In Colab\"/></a>"
      ]
    },
    {
      "cell_type": "markdown",
      "source": [
        "In this notebook we will be exploring exploring NLP"
      ],
      "metadata": {
        "id": "knwYZVGqMlkg"
      }
    },
    {
      "cell_type": "markdown",
      "source": [
        "Firstly we will be looking at how tokenizer is used to encode each word in a sentence"
      ],
      "metadata": {
        "id": "5tfQ9BypMvqb"
      }
    },
    {
      "cell_type": "code",
      "execution_count": 1,
      "metadata": {
        "id": "wRHqQ0H8MZb3"
      },
      "outputs": [],
      "source": [
        "from tensorflow.keras.preprocessing.text import Tokenizer"
      ]
    },
    {
      "cell_type": "code",
      "source": [
        "sentences=['I like dogs','i like all dogs!', 'i like cats']\n",
        "tokenizer = Tokenizer(num_words=100,oov_token='<OOV>')\n",
        "tokenizer.fit_on_texts(sentences)\n",
        "print(tokenizer.word_index)"
      ],
      "metadata": {
        "colab": {
          "base_uri": "https://localhost:8080/"
        },
        "id": "4klMvLohMgG-",
        "outputId": "37f5937a-a41c-4ebe-b6b7-2f1da95ca3c5"
      },
      "execution_count": 14,
      "outputs": [
        {
          "output_type": "stream",
          "name": "stdout",
          "text": [
            "{'<OOV>': 1, 'i': 2, 'like': 3, 'dogs': 4, 'all': 5, 'cats': 6}\n"
          ]
        }
      ]
    },
    {
      "cell_type": "markdown",
      "source": [
        "We can see that the tokenizer strips punctuation in the encoding."
      ],
      "metadata": {
        "id": "y9xlNCmrNfLs"
      }
    },
    {
      "cell_type": "code",
      "source": [
        "sequences = tokenizer.texts_to_sequences(sentences)\n",
        "print(sequences)"
      ],
      "metadata": {
        "colab": {
          "base_uri": "https://localhost:8080/"
        },
        "id": "XOTeAtIQNdfY",
        "outputId": "b2575550-f06a-4802-a649-2c292a8973b9"
      },
      "execution_count": 15,
      "outputs": [
        {
          "output_type": "stream",
          "name": "stdout",
          "text": [
            "[[2, 3, 4], [2, 3, 5, 4], [2, 3, 6]]\n"
          ]
        }
      ]
    },
    {
      "cell_type": "markdown",
      "source": [
        "Above we see the use of sequences where each word in asentences is turned into a integer using the dictonary before"
      ],
      "metadata": {
        "id": "JmXimX5MQ6Dt"
      }
    },
    {
      "cell_type": "markdown",
      "source": [
        "Lets see what happens if use sequences on a sentence with words we have never see before"
      ],
      "metadata": {
        "id": "wOyJMjRsRTGh"
      }
    },
    {
      "cell_type": "code",
      "source": [
        "sentence_trial=['i like dogs and duck']\n",
        "trial_sequences = tokenizer.texts_to_sequences(sentence_trial)\n",
        "print(trial_sequences)"
      ],
      "metadata": {
        "colab": {
          "base_uri": "https://localhost:8080/"
        },
        "id": "nRls29dEQiWr",
        "outputId": "e5e1743a-bdd3-4009-c3fa-d97e8709b91a"
      },
      "execution_count": 16,
      "outputs": [
        {
          "output_type": "stream",
          "name": "stdout",
          "text": [
            "[[2, 3, 4, 1, 1]]\n"
          ]
        }
      ]
    },
    {
      "cell_type": "markdown",
      "source": [
        "Now we can see that the last 2 new words 'and' and 'duck' are assigned 1 = OOV"
      ],
      "metadata": {
        "id": "4E0b67npSCCk"
      }
    },
    {
      "cell_type": "markdown",
      "source": [
        "Next important step would be padding to ensure that all sentences are of equal length as the neural-network will require data to be of equal lengths"
      ],
      "metadata": {
        "id": "6YSxfp3lScOr"
      }
    },
    {
      "cell_type": "code",
      "source": [
        "from tensorflow.keras.preprocessing.sequence import pad_sequences\n",
        "padded = pad_sequences(sequences)\n",
        "print(padded)"
      ],
      "metadata": {
        "colab": {
          "base_uri": "https://localhost:8080/"
        },
        "id": "cIxypcu4SAqd",
        "outputId": "83c4840a-cb15-45f3-c6a3-abfb8c6e711e"
      },
      "execution_count": 17,
      "outputs": [
        {
          "output_type": "stream",
          "name": "stdout",
          "text": [
            "[[0 2 3 4]\n",
            " [2 3 5 4]\n",
            " [0 2 3 6]]\n"
          ]
        }
      ]
    },
    {
      "cell_type": "markdown",
      "source": [
        "The sequeces are converted to a matrix and 0s are added at the start to ensure that all the sentences are of the length of the longest sentence"
      ],
      "metadata": {
        "id": "dkLl5UkFTRu6"
      }
    },
    {
      "cell_type": "code",
      "source": [
        ""
      ],
      "metadata": {
        "id": "BjN8pRNqRg4Y"
      },
      "execution_count": null,
      "outputs": []
    }
  ]
}